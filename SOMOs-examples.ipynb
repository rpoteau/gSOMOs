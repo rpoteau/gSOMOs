{
 "cells": [
  {
   "cell_type": "code",
   "execution_count": null,
   "id": "7c94046f-1bc7-456d-b721-29f356e99d00",
   "metadata": {},
   "outputs": [],
   "source": [
    "from somos.config import tools4pyPC as t4p\n",
    "from somos.config import visualID_Eng as vID"
   ]
  },
  {
   "cell_type": "markdown",
   "id": "7b3617b2-8f08-46ec-a45a-b73c796718b9",
   "metadata": {},
   "source": [
    "## Define files"
   ]
  },
  {
   "cell_type": "code",
   "execution_count": null,
   "id": "9503d8f1-9553-4b85-acbd-4e1f5a017073",
   "metadata": {},
   "outputs": [],
   "source": [
    "logfolder = \"./logs\"\n",
    "# logfile = \"H2CO_T1.log.gz\"\n",
    "logfile = \"FeComplex.log.gz\""
   ]
  },
  {
   "cell_type": "markdown",
   "id": "565c3fcb-7e65-4538-9ee2-face50295ec5",
   "metadata": {},
   "source": [
    "## Cosine similarity"
   ]
  },
  {
   "cell_type": "markdown",
   "id": "abc35e1a-57d9-4838-9c74-2b41c1ffdd0a",
   "metadata": {},
   "source": [
    "### Interactive similarity, SOMO candidates, cross_match_all"
   ]
  },
  {
   "cell_type": "code",
   "execution_count": null,
   "id": "f63b0c0a-ec69-4fee-8a87-b7b09eb2e2b1",
   "metadata": {},
   "outputs": [],
   "source": [
    "from somos import cosim\n",
    "\n",
    "listMOs, coeffMOs, nBasis, dfSOMOs, S = cosim.analyzeSimilarity(logfolder,logfile)\n",
    "\n",
    "cosim.save_similarity_per_somo_from_df(dfSOMOs, listMOs, coeffMOs, nBasis, S, logfolder,logfile)\n"
   ]
  },
  {
   "cell_type": "markdown",
   "id": "480f96c0-0dac-49f0-a812-62b872c44bfd",
   "metadata": {},
   "source": [
    "### Heatmaps"
   ]
  },
  {
   "cell_type": "code",
   "execution_count": null,
   "id": "b5537fbe-87ee-4947-9ddc-577ff6e45cb0",
   "metadata": {},
   "outputs": [],
   "source": [
    "cosim.heatmap_MOs(listMOs, coeffMOs, nBasis, S, logfolder, logfile)"
   ]
  },
  {
   "cell_type": "markdown",
   "id": "8a53d06f-ab0f-46c2-a67d-58b24ad51c4b",
   "metadata": {},
   "source": [
    "### tSNE"
   ]
  },
  {
   "cell_type": "code",
   "execution_count": null,
   "id": "0d93c731-e16d-45ab-aceb-22b648c7657c",
   "metadata": {},
   "outputs": [],
   "source": [
    "cosim.tsne(listMOs, coeffMOs, S, logfolder,logfile)"
   ]
  },
  {
   "cell_type": "markdown",
   "id": "cdd7ce13-e0db-4452-a6b1-1ea58e9d0813",
   "metadata": {},
   "source": [
    "## Projection\n",
    "\n",
    "### Main  utility"
   ]
  },
  {
   "cell_type": "code",
   "execution_count": null,
   "id": "3bd9c4d2-4eeb-4892-b707-e3d2c13aaf76",
   "metadata": {},
   "outputs": [],
   "source": [
    "from somos import proj\n",
    "\n",
    "df_proj, info = proj.project_occupied_alpha_onto_beta(logfolder, logfile)\n",
    "display(proj.show_alpha_to_homo(df_proj, logfolder, logfile))\n"
   ]
  },
  {
   "cell_type": "markdown",
   "id": "0bd1b3c7-e068-4c39-959b-d90e6bc28316",
   "metadata": {},
   "source": [
    "### Heatmap"
   ]
  },
  {
   "cell_type": "code",
   "execution_count": null,
   "id": "bc97b0e1-61ed-4205-bcc9-affd9f88d8c8",
   "metadata": {},
   "outputs": [],
   "source": [
    "proj.projection_heatmap_from_df(df_proj, info[\"nbasis\"], logfolder, logfile)\n"
   ]
  },
  {
   "cell_type": "markdown",
   "id": "75338e88-0f3e-4de4-b8df-5a4db5c4eefd",
   "metadata": {},
   "source": [
    "### Projection of the occupied alpha MOs on the space spanned by the beta occupied MOs"
   ]
  },
  {
   "cell_type": "code",
   "execution_count": null,
   "id": "a1de98c7-e1b7-42da-a0b9-ec1abeedf880",
   "metadata": {},
   "outputs": [],
   "source": [
    "from somos import proj\n",
    "\n",
    "proj.diagonalize_alpha_occ_to_beta_occ_and_virt_separately(logfolder,logfile)\n"
   ]
  },
  {
   "cell_type": "code",
   "execution_count": null,
   "id": "37eecd14-fec7-4ed8-a74e-bd3b8ad84df5",
   "metadata": {},
   "outputs": [],
   "source": [
    "vID.end()"
   ]
  },
  {
   "cell_type": "code",
   "execution_count": null,
   "id": "04d4c683-3276-4242-b02c-c8c344a9e6b9",
   "metadata": {},
   "outputs": [],
   "source": []
  }
 ],
 "metadata": {
  "kernelspec": {
   "display_name": "Python 3 (ipykernel)",
   "language": "python",
   "name": "python3"
  },
  "language_info": {
   "codemirror_mode": {
    "name": "ipython",
    "version": 3
   },
   "file_extension": ".py",
   "mimetype": "text/x-python",
   "name": "python",
   "nbconvert_exporter": "python",
   "pygments_lexer": "ipython3",
   "version": "3.11.12"
  }
 },
 "nbformat": 4,
 "nbformat_minor": 5
}
